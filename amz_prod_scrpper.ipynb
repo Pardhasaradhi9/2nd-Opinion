{
 "cells": [
  {
   "cell_type": "code",
   "execution_count": null,
   "metadata": {},
   "outputs": [],
   "source": [
    "!pip install autoscraper"
   ]
  },
  {
   "cell_type": "code",
   "execution_count": 1,
   "metadata": {},
   "outputs": [],
   "source": [
    "import pandas as pd\n",
    "from selenium import webdriver\n",
    "from bs4 import BeautifulSoup"
   ]
  },
  {
   "cell_type": "code",
   "execution_count": 2,
   "metadata": {},
   "outputs": [],
   "source": [
    "import time\n",
    "from tqdm import tqdm"
   ]
  },
  {
   "cell_type": "code",
   "execution_count": 3,
   "metadata": {},
   "outputs": [],
   "source": [
    "driver = webdriver.Chrome()"
   ]
  },
  {
   "cell_type": "markdown",
   "metadata": {},
   "source": [
    "open a particular page using the driver"
   ]
  },
  {
   "cell_type": "code",
   "execution_count": 6,
   "metadata": {},
   "outputs": [],
   "source": [
    "driver.get(\"https://www.amazon.in/s?k=laptops&crid=33WZPHH4FTS8&sprefix=laptops%2Caps%2C217&ref=nb_sb_noss_2\")"
   ]
  },
  {
   "cell_type": "markdown",
   "metadata": {},
   "source": [
    "now that you opened the webpage, now its time to to extract the data from the webpage, for that we gonna use the BeautifulSoup library"
   ]
  },
  {
   "cell_type": "markdown",
   "metadata": {},
   "source": [
    "driver.page_source will give complete page source"
   ]
  },
  {
   "cell_type": "code",
   "execution_count": 7,
   "metadata": {},
   "outputs": [],
   "source": [
    "html_data = BeautifulSoup(driver.page_source, 'html.parser')\n",
    "# html_data"
   ]
  },
  {
   "cell_type": "code",
   "execution_count": 8,
   "metadata": {},
   "outputs": [
    {
     "data": {
      "text/plain": [
       "20"
      ]
     },
     "execution_count": 8,
     "metadata": {},
     "output_type": "execute_result"
    }
   ],
   "source": [
    "no_of_pages = int(html_data.find('span', {'class': 's-pagination-item s-pagination-disabled'}).text)\n",
    "no_of_pages"
   ]
  },
  {
   "cell_type": "markdown",
   "metadata": {},
   "source": [
    "now that we get to now total number of product pages, lets move into to the next step and i.e.. to extract basic information like product name, price & rating"
   ]
  },
  {
   "cell_type": "code",
   "execution_count": 13,
   "metadata": {},
   "outputs": [],
   "source": [
    "prod_name_list = []\n",
    "prod_img_list = []\n",
    "prod_price_list = []"
   ]
  },
  {
   "cell_type": "code",
   "execution_count": 15,
   "metadata": {},
   "outputs": [
    {
     "name": "stderr",
     "output_type": "stream",
     "text": [
      "100%|██████████| 20/20 [04:13<00:00, 12.67s/it]\n"
     ]
    }
   ],
   "source": [
    "for pg_num in tqdm(range(1, no_of_pages+1)):\n",
    "    url = f\"https://www.amazon.in/s?k=laptops&crid=33WZPHH4FTS8&sprefix=laptops%2Caps%2C217&ref=nb_sb_noss_2&page={pg_num}\"\n",
    "    driver.get(url)\n",
    "    time.sleep(10)\n",
    "    html_data = BeautifulSoup(driver.page_source, 'html.parser')\n",
    "    products = html_data.find_all('div', {'data-component-type':'s-search-result'})\n",
    "    for product in products:\n",
    "        product_name = product.find('h2', {'class':'a-size-medium a-spacing-none a-color-base a-text-normal'}).text\n",
    "        prod_name_list.append(product_name)\n",
    "        image = product.find('img')['src']\n",
    "        prod_img_list.append(image)\n",
    "        # rating = product.find('span', {'class':'a-icon-alt'})\n",
    "        # if rating == 'None':\n",
    "        #     rating = 'No rating'\n",
    "        # else:\n",
    "        #     rating = product.find('span', {'class':'a-icon-alt'}).text        \n",
    "        # prod_rating_list.append(rating)\n",
    "        price_element = product.find('span', {'class': 'a-price-whole'}) #Find the price element\n",
    "        price = 'Price not available'\n",
    "        if price_element:\n",
    "            price = '₹' + price_element.text.strip() #If the element is found, extract the price. Added strip() to remove extra whitespaces\n",
    "\n",
    "        prod_price_list.append(price)"
   ]
  },
  {
   "cell_type": "code",
   "execution_count": 16,
   "metadata": {},
   "outputs": [
    {
     "data": {
      "text/plain": [
       "422"
      ]
     },
     "execution_count": 16,
     "metadata": {},
     "output_type": "execute_result"
    }
   ],
   "source": [
    "len(prod_price_list)"
   ]
  },
  {
   "cell_type": "code",
   "execution_count": 17,
   "metadata": {},
   "outputs": [
    {
     "data": {
      "text/plain": [
       "423"
      ]
     },
     "execution_count": 17,
     "metadata": {},
     "output_type": "execute_result"
    }
   ],
   "source": [
    "len(prod_name_list)"
   ]
  },
  {
   "cell_type": "code",
   "execution_count": 19,
   "metadata": {},
   "outputs": [
    {
     "data": {
      "text/plain": [
       "423"
      ]
     },
     "execution_count": 19,
     "metadata": {},
     "output_type": "execute_result"
    }
   ],
   "source": [
    "len(prod_img_list)"
   ]
  },
  {
   "cell_type": "code",
   "execution_count": 20,
   "metadata": {},
   "outputs": [
    {
     "data": {
      "text/html": [
       "<div>\n",
       "<style scoped>\n",
       "    .dataframe tbody tr th:only-of-type {\n",
       "        vertical-align: middle;\n",
       "    }\n",
       "\n",
       "    .dataframe tbody tr th {\n",
       "        vertical-align: top;\n",
       "    }\n",
       "\n",
       "    .dataframe thead th {\n",
       "        text-align: right;\n",
       "    }\n",
       "</style>\n",
       "<table border=\"1\" class=\"dataframe\">\n",
       "  <thead>\n",
       "    <tr style=\"text-align: right;\">\n",
       "      <th></th>\n",
       "      <th>Product Name</th>\n",
       "      <th>Product Image</th>\n",
       "      <th>Product Price</th>\n",
       "    </tr>\n",
       "  </thead>\n",
       "  <tbody>\n",
       "    <tr>\n",
       "      <th>0</th>\n",
       "      <td>Dell Inspiron 3520 Laptop, 12th Gen Intel Core...</td>\n",
       "      <td>https://m.media-amazon.com/images/I/51QGlg5iRd...</td>\n",
       "      <td>₹47,450</td>\n",
       "    </tr>\n",
       "    <tr>\n",
       "      <th>1</th>\n",
       "      <td>Lenovo IdeaPad Slim 3 12th Gen Intel Core i5-1...</td>\n",
       "      <td>https://m.media-amazon.com/images/I/81mgUtc9iK...</td>\n",
       "      <td>₹53,560</td>\n",
       "    </tr>\n",
       "    <tr>\n",
       "      <th>2</th>\n",
       "      <td>(Refurbished) Lenovo ThinkPad 8th Gen Intel Co...</td>\n",
       "      <td>https://m.media-amazon.com/images/I/611AaVzaCQ...</td>\n",
       "      <td>₹17,765</td>\n",
       "    </tr>\n",
       "    <tr>\n",
       "      <th>3</th>\n",
       "      <td>(Refurbished) HP EliteBook 820 G4 7th Gen Inte...</td>\n",
       "      <td>https://m.media-amazon.com/images/I/61HoUL4Chj...</td>\n",
       "      <td>₹15,449</td>\n",
       "    </tr>\n",
       "    <tr>\n",
       "      <th>4</th>\n",
       "      <td>HP Laptop 255 G9 (2024), AMD Ryzen 5 5625U Hex...</td>\n",
       "      <td>https://m.media-amazon.com/images/I/71NfES5o1W...</td>\n",
       "      <td>₹30,290</td>\n",
       "    </tr>\n",
       "    <tr>\n",
       "      <th>...</th>\n",
       "      <td>...</td>\n",
       "      <td>...</td>\n",
       "      <td>...</td>\n",
       "    </tr>\n",
       "    <tr>\n",
       "      <th>417</th>\n",
       "      <td>(Renewed) DELL Latitude 5490 Core i5 8th Gen L...</td>\n",
       "      <td>https://m.media-amazon.com/images/I/615te9wVfz...</td>\n",
       "      <td>₹32,990</td>\n",
       "    </tr>\n",
       "    <tr>\n",
       "      <th>418</th>\n",
       "      <td>ASUS Vivobook Go 15 (2023), Intel Core i3-N305...</td>\n",
       "      <td>https://m.media-amazon.com/images/I/71GbvoTwsQ...</td>\n",
       "      <td>₹22,950</td>\n",
       "    </tr>\n",
       "    <tr>\n",
       "      <th>419</th>\n",
       "      <td>Lenovo V15 Intel Celeron N4500 15.6\" (39.62 cm...</td>\n",
       "      <td>https://m.media-amazon.com/images/I/516btukUor...</td>\n",
       "      <td>₹22,990</td>\n",
       "    </tr>\n",
       "    <tr>\n",
       "      <th>420</th>\n",
       "      <td>(Refurbished) HP Workstation Zbook Intel Core ...</td>\n",
       "      <td>https://m.media-amazon.com/images/I/61QK+kGGcX...</td>\n",
       "      <td>₹49,499</td>\n",
       "    </tr>\n",
       "    <tr>\n",
       "      <th>421</th>\n",
       "      <td>HP 15 Core i5 12th Gen (16GB RAM/512GB SSD/FHD...</td>\n",
       "      <td>https://m.media-amazon.com/images/I/61qMdAGC8u...</td>\n",
       "      <td>₹2,15,490</td>\n",
       "    </tr>\n",
       "  </tbody>\n",
       "</table>\n",
       "<p>422 rows × 3 columns</p>\n",
       "</div>"
      ],
      "text/plain": [
       "                                          Product Name  \\\n",
       "0    Dell Inspiron 3520 Laptop, 12th Gen Intel Core...   \n",
       "1    Lenovo IdeaPad Slim 3 12th Gen Intel Core i5-1...   \n",
       "2    (Refurbished) Lenovo ThinkPad 8th Gen Intel Co...   \n",
       "3    (Refurbished) HP EliteBook 820 G4 7th Gen Inte...   \n",
       "4    HP Laptop 255 G9 (2024), AMD Ryzen 5 5625U Hex...   \n",
       "..                                                 ...   \n",
       "417  (Renewed) DELL Latitude 5490 Core i5 8th Gen L...   \n",
       "418  ASUS Vivobook Go 15 (2023), Intel Core i3-N305...   \n",
       "419  Lenovo V15 Intel Celeron N4500 15.6\" (39.62 cm...   \n",
       "420  (Refurbished) HP Workstation Zbook Intel Core ...   \n",
       "421  HP 15 Core i5 12th Gen (16GB RAM/512GB SSD/FHD...   \n",
       "\n",
       "                                         Product Image Product Price  \n",
       "0    https://m.media-amazon.com/images/I/51QGlg5iRd...       ₹47,450  \n",
       "1    https://m.media-amazon.com/images/I/81mgUtc9iK...       ₹53,560  \n",
       "2    https://m.media-amazon.com/images/I/611AaVzaCQ...       ₹17,765  \n",
       "3    https://m.media-amazon.com/images/I/61HoUL4Chj...       ₹15,449  \n",
       "4    https://m.media-amazon.com/images/I/71NfES5o1W...       ₹30,290  \n",
       "..                                                 ...           ...  \n",
       "417  https://m.media-amazon.com/images/I/615te9wVfz...       ₹32,990  \n",
       "418  https://m.media-amazon.com/images/I/71GbvoTwsQ...       ₹22,950  \n",
       "419  https://m.media-amazon.com/images/I/516btukUor...       ₹22,990  \n",
       "420  https://m.media-amazon.com/images/I/61QK+kGGcX...       ₹49,499  \n",
       "421  https://m.media-amazon.com/images/I/61qMdAGC8u...     ₹2,15,490  \n",
       "\n",
       "[422 rows x 3 columns]"
      ]
     },
     "execution_count": 20,
     "metadata": {},
     "output_type": "execute_result"
    }
   ],
   "source": [
    "import pandas as pd\n",
    "\n",
    "# Ensure all lists are of the same length by truncating the longer lists\n",
    "min_length = min(len(prod_name_list), len(prod_img_list), len(prod_price_list))\n",
    "\n",
    "prod_name_list = prod_name_list[:min_length]\n",
    "prod_img_list = prod_img_list[:min_length]\n",
    "prod_price_list = prod_price_list[:min_length]\n",
    "\n",
    "# Create the DataFrame\n",
    "products_df = pd.DataFrame({\n",
    "    'Product Name': prod_name_list,\n",
    "    'Product Image': prod_img_list,\n",
    "    'Product Price': prod_price_list\n",
    "})\n",
    "\n",
    "products_df"
   ]
  },
  {
   "cell_type": "code",
   "execution_count": 21,
   "metadata": {},
   "outputs": [],
   "source": [
    "products_df.to_csv('amazon_products.csv', index=False)"
   ]
  },
  {
   "cell_type": "code",
   "execution_count": null,
   "metadata": {},
   "outputs": [],
   "source": []
  }
 ],
 "metadata": {
  "kernelspec": {
   "display_name": "venv",
   "language": "python",
   "name": "python3"
  },
  "language_info": {
   "codemirror_mode": {
    "name": "ipython",
    "version": 3
   },
   "file_extension": ".py",
   "mimetype": "text/x-python",
   "name": "python",
   "nbconvert_exporter": "python",
   "pygments_lexer": "ipython3",
   "version": "3.12.7"
  }
 },
 "nbformat": 4,
 "nbformat_minor": 2
}
