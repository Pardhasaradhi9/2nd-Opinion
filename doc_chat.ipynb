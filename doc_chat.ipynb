{
 "cells": [
  {
   "cell_type": "code",
   "execution_count": null,
   "metadata": {},
   "outputs": [],
   "source": [
    "!pip install langchain rank_bm25 pypdf unstructured chromadb\n",
    "!pip install unstructured['pdf'] unstructured\n",
    "!apt-get install poppler-utils\n",
    "!apt-get install -y tesseract-ocr\n",
    "!apt-get install -y libtesseract-dev\n",
    "!pip install pytesseract"
   ]
  },
  {
   "cell_type": "code",
   "execution_count": 2,
   "metadata": {},
   "outputs": [],
   "source": [
    "from langchain.document_loaders import UnstructuredPDFLoader\n",
    "from langchain.text_splitter import RecursiveCharacterTextSplitter\n",
    "from langchain.vectorstores import Chroma\n",
    "from langchain_community.vectorstores import FAISS\n",
    "\n",
    "from langchain_core.prompts import ChatPromptTemplate\n",
    "from langchain_core.output_parsers import StrOutputParser\n",
    "from langchain_core.runnables import RunnablePassthrough\n",
    "\n",
    "from langchain.embeddings import HuggingFaceInferenceAPIEmbeddings\n",
    "from langchain.llms import HuggingFaceHub\n",
    "\n",
    "\n",
    "from langchain.retrievers import BM25Retriever, EnsembleRetriever\n",
    "\n",
    "import os\n",
    "import time\n",
    "\n",
    "from dotenv import load_dotenv\n",
    "import pandas as pd\n",
    "from tqdm import tqdm\n",
    "import neattext as nt"
   ]
  },
  {
   "cell_type": "code",
   "execution_count": 3,
   "metadata": {},
   "outputs": [],
   "source": [
    "csv_paths = [] # List to store the paths of the CSV files ---> give the actual paths of csv if you have already downloaded\n",
    " \n",
    "names = [] # List to store the names of the laptops ----> give the desired names to the products"
   ]
  },
  {
   "cell_type": "code",
   "execution_count": 5,
   "metadata": {},
   "outputs": [
    {
     "name": "stderr",
     "output_type": "stream",
     "text": [
      "Processing CSV files: 100%|██████████| 3/3 [00:00<00:00, 97.09it/s]\n"
     ]
    }
   ],
   "source": [
    "def preprocess_with_neattext(text):\n",
    "    text_frame = nt.TextFrame(text)\n",
    "    text_frame.remove_multiple_spaces()\n",
    "    text_frame.remove_html_tags()\n",
    "    text_frame.remove_urls()\n",
    "    text_frame.remove_non_ascii()\n",
    "    text_frame.remove_userhandles()\n",
    "    text_frame.remove_hashtags()\n",
    "    text_frame.remove_emojis()\n",
    "    return text_frame.text\n",
    "\n",
    "clean_full_desc = ''\n",
    "\n",
    "for i, csv_path in enumerate(tqdm(csv_paths, desc=\"Processing CSV files\")):\n",
    "    laptop_df = pd.read_csv(csv_path)\n",
    "    clean_full_desc = clean_full_desc + f'The Review of {names[i]} are as follows: \\n'\n",
    "    full_desc = ' '.join(laptop_df['review_text'].dropna().astype(str))\n",
    "    clean_full_desc = clean_full_desc + preprocess_with_neattext(full_desc) + '\\n'"
   ]
  },
  {
   "cell_type": "code",
   "execution_count": 10,
   "metadata": {},
   "outputs": [
    {
     "name": "stderr",
     "output_type": "stream",
     "text": [
      "47it [00:00, 1152820.40it/s]         \n"
     ]
    }
   ],
   "source": [
    "# Initialize the RecursiveCharacterTextSplitter with the desired chunk size and overlap\n",
    "splitter = RecursiveCharacterTextSplitter(chunk_size=2500, chunk_overlap=250) # Adjust chunk size and overlap as needed\n",
    "\n",
    "# Define a Document class with both 'page_content' and 'metadata' attributes\n",
    "class Document:\n",
    "    def __init__(self, page_content, metadata=None):\n",
    "        self.page_content = page_content\n",
    "        self.metadata = metadata if metadata is not None else {}\n",
    "\n",
    "# Create a list with a single document object containing the full description\n",
    "documents = [Document(page_content=clean_full_desc)]\n",
    "\n",
    "# Wrap the splitting process with tqdm to show a progress bar\n",
    "chunks = list(tqdm(splitter.split_documents(documents), total=len(documents)))"
   ]
  },
  {
   "cell_type": "code",
   "execution_count": 23,
   "metadata": {},
   "outputs": [
    {
     "data": {
      "text/plain": [
       "'I recently bought the MacBook Air M1, and Im extremely impressed with its performance. The M1 chip delivers exceptional speed and responsiveness, making tasks seamless and efficient. The battery life is remarkable, lasting throughout the day without needing to recharge. The display is vibrant and sharp, providing an immersive visual experience. Overall, this laptop combines power, portability, and style, and I would highly recommend it to anyone in need of a high-performance and reliable device. Design is really great Great battery backup and best product'"
      ]
     },
     "execution_count": 23,
     "metadata": {},
     "output_type": "execute_result"
    }
   ],
   "source": [
    "chunks[46].page_content"
   ]
  },
  {
   "cell_type": "code",
   "execution_count": 25,
   "metadata": {},
   "outputs": [],
   "source": [
    "load_dotenv()\n",
    "\n",
    "HF_TOKEN = os.getenv(\"HUGGINGFACEHUB_API_TOKEN\") # Replace with your actual Hugging Face token\n",
    "\n",
    "embeddings = HuggingFaceInferenceAPIEmbeddings(\n",
    "    api_key=HF_TOKEN, model_name=\"BAAI/bge-base-en-v1.5\" # Replace with the desired embedding model\n",
    ")\n",
    "\n",
    "# Create a Chroma vector store from the chunks\n",
    "vectorstore = Chroma.from_documents(chunks, embeddings)\n",
    "vectorstore_retreiver = vectorstore.as_retriever(search_kwargs={\"k\": 3})\n",
    "\n",
    "keyword_retriever = BM25Retriever.from_documents(chunks)\n",
    "keyword_retriever.k =  3"
   ]
  },
  {
   "cell_type": "code",
   "execution_count": 26,
   "metadata": {},
   "outputs": [
    {
     "name": "stderr",
     "output_type": "stream",
     "text": [
      "/var/folders/fj/6bcxvpyx3_z_pgcq8hqml31w0000gn/T/ipykernel_2475/4135471987.py:5: LangChainDeprecationWarning: The class `HuggingFaceHub` was deprecated in LangChain 0.0.21 and will be removed in 1.0. An updated version of the class exists in the :class:`~langchain-huggingface package and should be used instead. To use it run `pip install -U :class:`~langchain-huggingface` and import as `from :class:`~langchain_huggingface import HuggingFaceEndpoint``.\n",
      "  llm = HuggingFaceHub(\n"
     ]
    }
   ],
   "source": [
    "ensemble_retriever = EnsembleRetriever(retrievers=[vectorstore_retreiver,\n",
    "                                                   keyword_retriever],\n",
    "                                       weights=[0.5, 0.5])\n",
    "\n",
    "llm = HuggingFaceHub(\n",
    "    repo_id=\"HuggingFaceH4/zephyr-7b-beta\",\n",
    "    model_kwargs={\"temperature\": 0.3,\"max_new_tokens\":1024},\n",
    "    huggingfacehub_api_token=HF_TOKEN,\n",
    ")"
   ]
  },
  {
   "cell_type": "code",
   "execution_count": 28,
   "metadata": {},
   "outputs": [],
   "source": [
    "# Define the prompt template\n",
    "template = \"\"\"\n",
    "<|system|>>\n",
    "example prompt be like ....\n",
    "You are a helpful AI Assistant that follows instructions extremely well.\n",
    "Use the following context to answer user question.\n",
    "\n",
    "Think step by step before answering the question. Provide a clear and accurate answer based on the context..\n",
    "\n",
    "CONTEXT: {context}\n",
    "</s>\n",
    "<|user|>\n",
    "{query}\n",
    "</s>\n",
    "<|assistant|>\n",
    "\"\"\""
   ]
  },
  {
   "cell_type": "code",
   "execution_count": 29,
   "metadata": {},
   "outputs": [],
   "source": [
    "prompt = ChatPromptTemplate.from_template(template)\n",
    "output_parser = StrOutputParser()"
   ]
  },
  {
   "cell_type": "code",
   "execution_count": 30,
   "metadata": {},
   "outputs": [],
   "source": [
    "chain = (\n",
    "    {\"context\": ensemble_retriever, \"query\": RunnablePassthrough()}\n",
    "    | prompt\n",
    "    | llm\n",
    "    | output_parser\n",
    ")"
   ]
  },
  {
   "cell_type": "code",
   "execution_count": 37,
   "metadata": {},
   "outputs": [
    {
     "name": "stdout",
     "output_type": "stream",
     "text": [
      "Human: \n",
      "<|system|>>\n",
      "You are a helpful AI Assistant that follows instructions extremely well.\n",
      "Use the following context to answer user question.\n",
      "\n",
      "Think step by step before answering the question. Provide a clear and accurate answer based on the context.. You will get a $100 tip if you provide correct answer.\n",
      "\n",
      "CONTEXT: [Document(metadata={}, page_content='The Review of Hp Pavilion 14-inch are as follows:'), Document(metadata={}, page_content=\"purpose and using software applications running smooth. Performance wise the laptop is good. But the screen is bit yellowish compared to other laptop. I contacted HP customer care for this issue. They replied that the screen settings is built-in and nothing can be done to rectify this.If you can compromise on yellowish screen, you can go with this laptop. Please go for any other company laptop or other model HP laptop if you are looking for good laptop with bright screen I purchased an HP Pavilion 14 in June 2021, expecting a reliable and high-performing laptop for my daily needs. However, after 7-8 months of use, I began experiencing significant issues with the motherboard and SSD. The display would frequently freeze. Despite these problems, the service center I contacted was unresponsive, taking 1-2 months to acknowledge the issue and even longer to replace the product. Given that the product was still in the warranty period, The delay was particularly frustrating. Indeed the motherboard was replaced 3-4 times yet the issue is still persistent.I am wondering about it's okay until the product is in warranty period but what if the problem arises once the warranty ends. Today is10 of May 2023, means I got this piece of machine 20 month ago, worst machine on this price, touch pad is not working properly, even hard to be click, not easy to input USB to the USB port, battery backup upto 3hrs, screen display become dull day by day and today it become black, means display brightness goes down to 1% while working. With having lots of frustration, I went to HP Laptop service station, they told me that the monitor is pixelated and can't be repaired, has to change... & the cost is 12000 plus gst. This product is very good for home use - for children's education and for home entertainment like watching movies and also for other normal computing purposes like web browsing, document management etc.Also, having a 512 GB SSD drive, it boots up really fast.Aesthetically, it looks very good - and hopefully durable too.Overall, this hp product seems to be of great quality, although little expensive. Awesome laptop along with perfect configuration at this price. However due to its metallic build there might be chances of heating at the right side bottom part so better use laptop stand to stave off heating. Rest all good so go and grab if interested After 4 months of use I found, Sometimes MOUSE touch pad does not work properly. Otherwise everything is okay.I have made\"), Document(metadata={}, page_content='make their own decisions. Finally, nothing happened till date. I have submitted one star as this is the least one without which review cannot be completed but they deserve negative five-star ranking. If some body is reading these comments from the company and does something then I am ready to improve the ranking. Till date noting done by the company for the manufacturing defect item so worst feedback. Performance is ok. Having issues in connecting to wifi The Lenovo IdeaPad Slim 3 is a budget-friendly, lightweight laptop with a Full HD display, decent performance for everyday tasks, and good battery life. Build quality and premium features are modest. H series processor performing like beast. Not recommended for buying this laptop and lenovo service is not good. Very disappointed The amazon delivery is worst and horrible, no contact on the product and the laptop was received after 3 to 4 days delay. Good It has only 4 hours of battery backup which is claimed 8 hours by the seller. Buying a 66k laptop with only 4 hours of battery backup is not worthy.Rest is good in performance. Works well Good one for office going people and also for software developers. It also handles video editing smoothly upto 1080p and also works fine on 4k video editing but takes time on 4k. Decent laptop at this price rangeGood for office/home usage but not for gaming I am using it from 10 days overall performance is good but if you love to do content consuming then this the not laptop for you display quality is not good, speakers are average if a fan is on then you will not able to listen it clearlly but it can handle multitasking easily overall i got this for 41k dont buy it if exceeds the price of 45k. Good laptop at this price with i5 11th gen, Win11, Office Student. Performance is good for normal use without lags, nd for light gaming.Pros:- 512GB SSD with fast bootup <10 sec- i5 11th, Win11, Office enabled- Alexa built in, live updates- HD display with backlit keyboard- Battery upto 4-5 hours with minimal brightness, normal useCons:- Only 1 slot for RAM upto 16gb- Display could have been better, may strain eyes in prolonged use- Not fully antiglare, can see reflection if light is very bright in backendOverall good buy if u compromise in display, side angle views and light gaming Good Worst laptop dont buy this laptops from lenovoBecause i have faced lot of issues in laptopTouchpad ,speakers,heating and screen within one month i did buy this in sep monthI strongly recomended'), Document(metadata={}, page_content='Unboxed it just now , seems pretty good to me , touch screen works well. Received this yesterday (04/03/2021). Prompt delivery by Amazon (as expected).Clarifications/issue points:1. Its a plastic body and not aluminium.2. Hinges do not lift the lower part of the laptop.3. Fan noise is there and it tends to get a bit hot.4. Theres no special point on the edge of the lid to easily open it. You need to struggle a bit.5. Battery life is descent with normal everyday usage (apprx- 5-6 hours)6. Quality of adapter is not that good and the pin connector is not that good in terms of quality. You have to be cautious.7. Body is prone to scratches and if you buy silver colour, then they will be visible easily. So be cautious in that area as well.8. The packaging quality seemed to be very low. It was all dusty. I had to clean a lot. Laptop also got some dust on its body although it was packed well inside a plastic sheet.Pros:1. Configuration is best at this price level.2. Performance is excellent in terms of multi-media usage and online tasks.3. Data transfer from various storage devices is a very fast.4. Its light weight as its a plastic build. But the plastic quality seems to be really sturdy.5. Sound quality is also good but not very good or excellent as boasted in the ads or online reviews.6. Display is average and gets the job done.7. Typing on the keyboard is really good and large keys give you a sense of good confidence.8. You get 476 GB of available SSD memory which I suppose is good enough. Good point- its expandable upto 1 TB.9. Microsoft integration is seamless and quick.Overall, at this price budget (INR-62990), its a really well thought product by HP.Ill update this review after one month of usage. I bought this a few days ago, and I am glad I decided to make this purchase. This laptop is probably the only laptop in its segment that boasts such a spec heavy configuration without breaking the bank. The HP pavilion is such a compelling buy and boy does it deliver a premium experience throughout.Having used a Pavilion 15 before, I gravitated towards the Pavilion series predominantly because of the typing experience and the speakers tuned by Bang and Olufsen! They sound mighty impressive for the price! Its the same experience this time around. The audio is loud and crisp, and typing experience with 2 stage backlit chiclet keys is fantastic! They key travel and feedback is great. This probably is nitpicking, but the only gripe I have is the Power key is placed'), Document(metadata={}, page_content=\"star rating given to this productThe only thing which I do not find comfortable is the touchpad making click noise while tapping on itGot a confirmation from HP, that it's by design and not a hardware issue, not sure if anybody else is finding this feature cool or not Very good laptop, very light weight so can easily care and operate with single hand.Battery life is okay as of now.Brightness is also okay not so bright.Sound disappointed as its not that great its hardly manageable at this price point.Overall good laptop.And yes, type-c port supports charging also so this is something cool  After one month of use, I'm proud to say This HP product is one of the finest I've ever used. Everything thing is working fine  Except for camera quality which is not so good for meeting purposes & the heating issues which make the battery drain faster. But the only solution to the heat is to add a fan or two as a cooler or else you can't achieve the best performance . Overall Loved it! You can definitely trust on this one!  Super fast laptop ..booting time is few seconds. Good for programming and general work /studies . Can run multiple softwares in parallel . Not recommended for gaming , installed fifa 21 but it is crashing some times during gaming.Audio system is not that great but display is very crystal clear. This laptop from hp is a powerhouse in yerms of performance. I got it for 56k after applying exchange of 11k for my previous hp laptop. It is lightweight and 14 inchi screen size is easy to carry. After using 6 months here is my review for this product for first 5 months it was great laptop but now in 6th month i am facing many issues screen is stuck, programs not opening, slow process, software crash. I am presentation designer I only use powerpoint and adobe illustrator ( legal ones no cracked software) . no coding no video editing nothing i feel like my friend's 50k laptop is better than this. I purchased this laptop using exchange of old HP laptop. I was trying for Mi i7 laptop but at last went for this and I'm really happy as of now with decision. Laptop is very fast and no issue with anything. I wish it could have AMOLED display(which is not possible at this price).I will put 1 year review for sure in future.Pease consider this for office/college/daily use. You will not regret. An Amazing product from HP. Laptop was delivered today as promised by Amazon.A 16GB RAM, Intel i5-11th Gen processor, with 512 GB SSD with IRIS integrated graphics , FHD display,\")]\n",
      "</s>\n",
      "<|user|>\n",
      "Is Hp Pavilion 14-inch recommended for casual gaming !!\n",
      "</s>\n",
      "<|assistant|>\n",
      "Based on the context provided, some users have reported that the Hp Pavilion 14-inch is not recommended for gaming, as they have experienced software crashes during gaming sessions. While the laptop is capable of running multiple software programs simultaneously and can handle light gaming, it may not be the best choice for serious gamers due to its graphics capabilities and potential heating issues. If gaming is a primary concern, it may be worth considering a laptop with a dedicated graphics card and better cooling system. However, for casual gaming, the Hp Pavilion 14-inch may still be a viable option, depending on the specific games being played and the user's expectations for graphics quality and performance. It's always best to do additional research and read reviews from other users who have similar gaming needs before making a final decision.\n"
     ]
    }
   ],
   "source": [
    "print(chain.invoke(\"Is Hp Pavilion 14-inch recommended for casual gaming !!\"))"
   ]
  },
  {
   "cell_type": "code",
   "execution_count": null,
   "metadata": {},
   "outputs": [],
   "source": []
  }
 ],
 "metadata": {
  "kernelspec": {
   "display_name": "venv",
   "language": "python",
   "name": "python3"
  },
  "language_info": {
   "codemirror_mode": {
    "name": "ipython",
    "version": 3
   },
   "file_extension": ".py",
   "mimetype": "text/x-python",
   "name": "python",
   "nbconvert_exporter": "python",
   "pygments_lexer": "ipython3",
   "version": "3.12.7"
  }
 },
 "nbformat": 4,
 "nbformat_minor": 2
}
